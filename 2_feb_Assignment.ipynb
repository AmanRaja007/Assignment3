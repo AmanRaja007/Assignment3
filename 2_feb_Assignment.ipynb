{
 "cells": [
  {
   "cell_type": "markdown",
   "id": "8ea9010a-1739-4296-b7d5-d71b8db0f133",
   "metadata": {},
   "source": [
    "Question 1.\n",
    "explain with an example each when to use for loop and while loop."
   ]
  },
  {
   "cell_type": "markdown",
   "id": "13691ad7-a981-47c0-9a4c-28340477d65f",
   "metadata": {},
   "source": [
    "#solution:  \n",
    "while loop is used to run a block of code until a certian condition is met.\n",
    "While loops are best suited when you do not know ahead of time the number of iterations \n",
    "that you need to do.\n",
    "for example:"
   ]
  },
  {
   "cell_type": "code",
   "execution_count": 13,
   "id": "b8b011b8-08e7-4d21-9ab1-33dea0123091",
   "metadata": {},
   "outputs": [
    {
     "name": "stdin",
     "output_type": "stream",
     "text": [
      "Enter the number:  5\n"
     ]
    }
   ],
   "source": [
    "n = int(input(\"Enter the number: \"))\n",
    "while i <= n:\n",
    "    print(\"Hello\")\n",
    "    i = i + 1\n",
    "#here in above we dont know the no. of iterations "
   ]
  },
  {
   "cell_type": "markdown",
   "id": "57326cae-9d60-44b1-b6e5-c3c5693ac0c9",
   "metadata": {},
   "source": [
    "for loop is used when we know the number of iterations are known for example:"
   ]
  },
  {
   "cell_type": "code",
   "execution_count": 5,
   "id": "e84d9be4-f927-4e91-845f-7d701c7c4391",
   "metadata": {},
   "outputs": [
    {
     "name": "stdout",
     "output_type": "stream",
     "text": [
      "hello\n",
      "hello\n",
      "hello\n",
      "hello\n",
      "hello\n"
     ]
    }
   ],
   "source": [
    "i = 0 \n",
    "for i in range(5):\n",
    "    print(\"hello\")\n",
    "    i = i + 1"
   ]
  },
  {
   "cell_type": "markdown",
   "id": "6c5fce00-d08b-4b99-b89f-022e0cf86596",
   "metadata": {},
   "source": [
    "Question 2.\n",
    "write a python program to  print the sum and product of the first 10 natural numbers using\n",
    "for and while loop."
   ]
  },
  {
   "cell_type": "code",
   "execution_count": 11,
   "id": "1042ebc9-751b-4fc5-9be9-f7c3403645fe",
   "metadata": {},
   "outputs": [
    {
     "name": "stdout",
     "output_type": "stream",
     "text": [
      "sum:55 and product: 3628800 of 10 natural numbers\n"
     ]
    }
   ],
   "source": [
    "#solution using while loop \n",
    "n = 10 \n",
    "sum = 0\n",
    "product = 1\n",
    "i = 1\n",
    "while i <= n:\n",
    "    sum = sum + i\n",
    "    product = product * i\n",
    "    i = i + 1\n",
    "print()    "
   ]
  },
  {
   "cell_type": "code",
   "execution_count": 12,
   "id": "d4e7fdf2-aae7-4007-8f6f-30ad662b4d1e",
   "metadata": {},
   "outputs": [
    {
     "name": "stdout",
     "output_type": "stream",
     "text": [
      "sum and product of 10 natural number is: 55 3628800\n"
     ]
    }
   ],
   "source": [
    "#using for loop\n",
    "s = 0\n",
    "product = 1\n",
    "a = 1\n",
    "for i in range(10):\n",
    "    s = s + a\n",
    "    product = product * a\n",
    "    a = a + 1\n",
    "print(\"sum and product of 10 natural number is:\",s,product)    "
   ]
  },
  {
   "cell_type": "markdown",
   "id": "1ece67e1-60c8-4968-b692-80c939409b2d",
   "metadata": {},
   "source": [
    "Question 3.\n",
    "Create a python program to compute the electricty bill for a household.\n",
    "The per-unit charge in rupees are as follows: for the first 100 units,the user will be\n",
    "charged rs 4.5 per unit for the next 100 units, the user will be charged Rs.6 per unit \n",
    "and for the next 100 units the user will be charged Rs10 per unit. After 300 units \n",
    "and above the user will be charged Rs 20 per unit . you are required to take the the \n",
    "units of electricity consumed in a month from the user as input.\n",
    "\n",
    "your program must pass this test case: when the unit of electricity consumed by the user \n",
    "in a month is 310, the total electricity bill should be 2250."
   ]
  },
  {
   "cell_type": "code",
   "execution_count": 5,
   "id": "44c7122f-3ae3-4607-b52c-c1e96422ec7d",
   "metadata": {},
   "outputs": [
    {
     "name": "stdin",
     "output_type": "stream",
     "text": [
      "Enter the unit of electricity consumed in a month:  310\n"
     ]
    },
    {
     "name": "stdout",
     "output_type": "stream",
     "text": [
      "your electricity bill is:  2250.0\n"
     ]
    }
   ],
   "source": [
    "#Solution \n",
    "units = int(input(\"Enter the unit of electricity consumed in a month: \"))\n",
    "if units <= 100:\n",
    "    ebill = units *  4.5\n",
    "    print(\"your electricity bill is: \",ebill)\n",
    "elif units <= 200:\n",
    "    ebill = 100 * 4.5 + (units-100) * 6 \n",
    "    print(\"your electricity bill is: \",ebill)\n",
    "elif units <= 300:\n",
    "    ebill = 100 * 4.5 + 100 * 6 + (units-200) * 10\n",
    "    print(\"your electricity bill is: \",ebill)\n",
    "else:\n",
    "    ebill = 100 * 4.5 + 100 * 6 + 100 * 10 + (units - 300) * 20\n",
    "    print(\"your electricity bill is: \",ebill)"
   ]
  },
  {
   "cell_type": "markdown",
   "id": "c4bf127a-b4e9-40d6-b772-65f0a21c9571",
   "metadata": {},
   "source": [
    "Question 4.\n",
    "Create a list of numbers from 1 to 100. Use for loop and while loop to calculate the \n",
    "cube of each number and if the cube of that number is divisible by 4 or 5 then append \n",
    "that number in a list and print that list."
   ]
  },
  {
   "cell_type": "code",
   "execution_count": 18,
   "id": "36a42641-c126-4bfd-9ea1-de4706982dc7",
   "metadata": {},
   "outputs": [
    {
     "name": "stdout",
     "output_type": "stream",
     "text": [
      "[2, 4, 5, 6, 8, 10, 12, 14, 15, 16, 18, 20, 22, 24, 25, 26, 28, 30, 32, 34, 35, 36, 38, 40, 42, 44, 45, 46, 48, 50, 52, 54, 55, 56, 58, 60, 62, 64, 65, 66, 68, 70, 72, 74, 75, 76, 78, 80, 82, 84, 85, 86, 88, 90, 92, 94, 95, 96, 98, 100]\n"
     ]
    }
   ],
   "source": [
    "#Solution\n",
    "#using for loop \n",
    "l = []\n",
    "for i in range(1,101):\n",
    "    l.append(i)\n",
    "res = []\n",
    "for i in l:\n",
    "    if pow(i,3) % 4 == 0 or pow(i,3) % 5 == 0:\n",
    "        res.append(i)\n",
    "print(res)"
   ]
  },
  {
   "cell_type": "code",
   "execution_count": 4,
   "id": "2f9ae85c-a892-456b-8a08-2c82e9b031c0",
   "metadata": {},
   "outputs": [
    {
     "name": "stdout",
     "output_type": "stream",
     "text": [
      "[2, 4, 5, 6, 8, 10, 12, 14, 15, 16, 18, 20, 22, 24, 25, 26, 28, 30, 32, 34, 35, 36, 38, 40, 42, 44, 45, 46, 48, 50, 52, 54, 55, 56, 58, 60, 62, 64, 65, 66, 68, 70, 72, 74, 75, 76, 78, 80, 82, 84, 85, 86, 88, 90, 92, 94, 95, 96, 98, 100]\n"
     ]
    }
   ],
   "source": [
    "# using while loop\n",
    "l = []\n",
    "i = 1\n",
    "res = []\n",
    "while i <= 100:\n",
    "    l.append(i)\n",
    "    i = i + 1\n",
    "    if pow(i,3) % 4 == 0 or pow(i,3) % 5 == 0:\n",
    "        res.append(i)\n",
    "print(res)"
   ]
  },
  {
   "cell_type": "markdown",
   "id": "783a75c3-3e81-48ac-aa59-8c4c753e74f2",
   "metadata": {},
   "source": [
    "Question 5.\n",
    "Write a program to filter count vowels in the below-given string.\n",
    "string = \"I want to become a data scientist\""
   ]
  },
  {
   "cell_type": "code",
   "execution_count": 12,
   "id": "5886122d-f090-4b52-bae2-6c61b79bf637",
   "metadata": {},
   "outputs": [
    {
     "name": "stdout",
     "output_type": "stream",
     "text": [
      "No of vowles are:  12\n"
     ]
    }
   ],
   "source": [
    "string = \"I want to become a data scientist\"\n",
    "vowels = 0\n",
    "for i in string:\n",
    "    if i == \"a\" or i == \"e\" or i == \"i\" or  i ==\"o\" or i ==\"u\" or i == \"A\" or i == \"E\" or i == \"I\" or  i ==\"O\" or i ==\"U\":\n",
    "        vowels = vowels + 1\n",
    "print(\"No of vowles are: \",vowels)"
   ]
  },
  {
   "cell_type": "code",
   "execution_count": null,
   "id": "6b098dc6-7c31-451f-a905-fbff6d3c1380",
   "metadata": {},
   "outputs": [],
   "source": []
  }
 ],
 "metadata": {
  "kernelspec": {
   "display_name": "Python 3 (ipykernel)",
   "language": "python",
   "name": "python3"
  },
  "language_info": {
   "codemirror_mode": {
    "name": "ipython",
    "version": 3
   },
   "file_extension": ".py",
   "mimetype": "text/x-python",
   "name": "python",
   "nbconvert_exporter": "python",
   "pygments_lexer": "ipython3",
   "version": "3.10.8"
  }
 },
 "nbformat": 4,
 "nbformat_minor": 5
}
